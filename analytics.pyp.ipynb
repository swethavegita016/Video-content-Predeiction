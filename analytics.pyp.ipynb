{
 "cells": [
  {
   "cell_type": "markdown",
   "id": "9e80d23d",
   "metadata": {},
   "source": [
    "# Problem Statement\n",
    "\n",
    "ABC is an online content sharing platform that enables users to create, upload and share the content in the form of videos. It includes videos from different genres like entertainment, education, sports, technology and so on. The maximum duration of video is 10 minutes.\n",
    "\n",
    "Users can like, comment and share the videos on the platform. \n",
    "\n",
    "Based on the user’s interaction with the videos, engagement score is assigned to the video with respect to each user. Engagement score defines how engaging the content of the video is. \n",
    "\n",
    "Understanding the engagement score of the video improves the user’s interaction with the platform. It defines the type of content that is appealing to the user and engages the larger audience."
   ]
  },
  {
   "cell_type": "markdown",
   "id": "4e9a86f0",
   "metadata": {},
   "source": [
    "# Variable Description\n",
    "\n",
    "row_id - Unique identifier of the row\n",
    "\n",
    "user_id - Unique identifier of the user\n",
    "\n",
    "category_id - Category of the video\n",
    "\n",
    "video_id - Unique identifier of the video\n",
    "\n",
    "age - Age of the user\n",
    "\n",
    "gender - Gender of the user (Male and Female)\n",
    "\n",
    "profession - Profession of the user (Student, Working Professional, Other)\n",
    "\n",
    "followers - No. of users following a particular category\n",
    "\n",
    "views - Total views of the videos present in the particular category\n",
    "\n",
    "engagement_score - Engagement score of the video for a user"
   ]
  },
  {
   "cell_type": "code",
   "execution_count": 1,
   "id": "003801c5",
   "metadata": {},
   "outputs": [],
   "source": [
    "## importing the required libraries\n",
    "\n",
    "import pandas as pd\n",
    "import numpy as np\n",
    "import matplotlib.pyplot as plt\n",
    "import seaborn as sns\n",
    "import warnings\n",
    "warnings.filterwarnings('ignore')\n",
    "\n",
    "## importing the train and test dataset to read as csv file\n",
    "\n",
    "train = pd.read_csv('train_0OECtn8.csv')\n",
    "test = pd.read_csv('test_1zqHu22.csv')"
   ]
  },
  {
   "cell_type": "code",
   "execution_count": 2,
   "id": "effb6ae5",
   "metadata": {},
   "outputs": [
    {
     "data": {
      "text/html": [
       "<div>\n",
       "<style scoped>\n",
       "    .dataframe tbody tr th:only-of-type {\n",
       "        vertical-align: middle;\n",
       "    }\n",
       "\n",
       "    .dataframe tbody tr th {\n",
       "        vertical-align: top;\n",
       "    }\n",
       "\n",
       "    .dataframe thead th {\n",
       "        text-align: right;\n",
       "    }\n",
       "</style>\n",
       "<table border=\"1\" class=\"dataframe\">\n",
       "  <thead>\n",
       "    <tr style=\"text-align: right;\">\n",
       "      <th></th>\n",
       "      <th>row_id</th>\n",
       "      <th>user_id</th>\n",
       "      <th>category_id</th>\n",
       "      <th>video_id</th>\n",
       "      <th>age</th>\n",
       "      <th>gender</th>\n",
       "      <th>profession</th>\n",
       "      <th>followers</th>\n",
       "      <th>views</th>\n",
       "      <th>engagement_score</th>\n",
       "    </tr>\n",
       "  </thead>\n",
       "  <tbody>\n",
       "    <tr>\n",
       "      <th>0</th>\n",
       "      <td>1</td>\n",
       "      <td>19990</td>\n",
       "      <td>37</td>\n",
       "      <td>128</td>\n",
       "      <td>24</td>\n",
       "      <td>Male</td>\n",
       "      <td>Student</td>\n",
       "      <td>180</td>\n",
       "      <td>1000</td>\n",
       "      <td>4.33</td>\n",
       "    </tr>\n",
       "    <tr>\n",
       "      <th>1</th>\n",
       "      <td>2</td>\n",
       "      <td>5304</td>\n",
       "      <td>32</td>\n",
       "      <td>132</td>\n",
       "      <td>14</td>\n",
       "      <td>Female</td>\n",
       "      <td>Student</td>\n",
       "      <td>330</td>\n",
       "      <td>714</td>\n",
       "      <td>1.79</td>\n",
       "    </tr>\n",
       "    <tr>\n",
       "      <th>2</th>\n",
       "      <td>3</td>\n",
       "      <td>1840</td>\n",
       "      <td>12</td>\n",
       "      <td>24</td>\n",
       "      <td>19</td>\n",
       "      <td>Male</td>\n",
       "      <td>Student</td>\n",
       "      <td>180</td>\n",
       "      <td>138</td>\n",
       "      <td>4.35</td>\n",
       "    </tr>\n",
       "    <tr>\n",
       "      <th>3</th>\n",
       "      <td>4</td>\n",
       "      <td>12597</td>\n",
       "      <td>23</td>\n",
       "      <td>112</td>\n",
       "      <td>19</td>\n",
       "      <td>Male</td>\n",
       "      <td>Student</td>\n",
       "      <td>220</td>\n",
       "      <td>613</td>\n",
       "      <td>3.77</td>\n",
       "    </tr>\n",
       "    <tr>\n",
       "      <th>4</th>\n",
       "      <td>5</td>\n",
       "      <td>13626</td>\n",
       "      <td>23</td>\n",
       "      <td>112</td>\n",
       "      <td>27</td>\n",
       "      <td>Male</td>\n",
       "      <td>Working Professional</td>\n",
       "      <td>220</td>\n",
       "      <td>613</td>\n",
       "      <td>3.13</td>\n",
       "    </tr>\n",
       "  </tbody>\n",
       "</table>\n",
       "</div>"
      ],
      "text/plain": [
       "   row_id  user_id  category_id  video_id  age  gender            profession  \\\n",
       "0       1    19990           37       128   24    Male               Student   \n",
       "1       2     5304           32       132   14  Female               Student   \n",
       "2       3     1840           12        24   19    Male               Student   \n",
       "3       4    12597           23       112   19    Male               Student   \n",
       "4       5    13626           23       112   27    Male  Working Professional   \n",
       "\n",
       "   followers  views  engagement_score  \n",
       "0        180   1000              4.33  \n",
       "1        330    714              1.79  \n",
       "2        180    138              4.35  \n",
       "3        220    613              3.77  \n",
       "4        220    613              3.13  "
      ]
     },
     "execution_count": 2,
     "metadata": {},
     "output_type": "execute_result"
    }
   ],
   "source": [
    "## checking the rows and columns by using the head function...\n",
    "\n",
    "train.head(5)"
   ]
  },
  {
   "cell_type": "code",
   "execution_count": 3,
   "id": "fb4ee27e",
   "metadata": {},
   "outputs": [
    {
     "data": {
      "text/html": [
       "<div>\n",
       "<style scoped>\n",
       "    .dataframe tbody tr th:only-of-type {\n",
       "        vertical-align: middle;\n",
       "    }\n",
       "\n",
       "    .dataframe tbody tr th {\n",
       "        vertical-align: top;\n",
       "    }\n",
       "\n",
       "    .dataframe thead th {\n",
       "        text-align: right;\n",
       "    }\n",
       "</style>\n",
       "<table border=\"1\" class=\"dataframe\">\n",
       "  <thead>\n",
       "    <tr style=\"text-align: right;\">\n",
       "      <th></th>\n",
       "      <th>row_id</th>\n",
       "      <th>user_id</th>\n",
       "      <th>category_id</th>\n",
       "      <th>video_id</th>\n",
       "      <th>age</th>\n",
       "      <th>gender</th>\n",
       "      <th>profession</th>\n",
       "      <th>followers</th>\n",
       "      <th>views</th>\n",
       "    </tr>\n",
       "  </thead>\n",
       "  <tbody>\n",
       "    <tr>\n",
       "      <th>0</th>\n",
       "      <td>89198</td>\n",
       "      <td>7986</td>\n",
       "      <td>12</td>\n",
       "      <td>42</td>\n",
       "      <td>14</td>\n",
       "      <td>Male</td>\n",
       "      <td>Student</td>\n",
       "      <td>180</td>\n",
       "      <td>138</td>\n",
       "    </tr>\n",
       "    <tr>\n",
       "      <th>1</th>\n",
       "      <td>89199</td>\n",
       "      <td>11278</td>\n",
       "      <td>34</td>\n",
       "      <td>115</td>\n",
       "      <td>14</td>\n",
       "      <td>Male</td>\n",
       "      <td>Student</td>\n",
       "      <td>230</td>\n",
       "      <td>840</td>\n",
       "    </tr>\n",
       "    <tr>\n",
       "      <th>2</th>\n",
       "      <td>89200</td>\n",
       "      <td>17245</td>\n",
       "      <td>8</td>\n",
       "      <td>110</td>\n",
       "      <td>44</td>\n",
       "      <td>Female</td>\n",
       "      <td>Working Professional</td>\n",
       "      <td>280</td>\n",
       "      <td>628</td>\n",
       "    </tr>\n",
       "    <tr>\n",
       "      <th>3</th>\n",
       "      <td>89201</td>\n",
       "      <td>9851</td>\n",
       "      <td>16</td>\n",
       "      <td>137</td>\n",
       "      <td>18</td>\n",
       "      <td>Male</td>\n",
       "      <td>Student</td>\n",
       "      <td>270</td>\n",
       "      <td>462</td>\n",
       "    </tr>\n",
       "    <tr>\n",
       "      <th>4</th>\n",
       "      <td>89202</td>\n",
       "      <td>16008</td>\n",
       "      <td>34</td>\n",
       "      <td>96</td>\n",
       "      <td>47</td>\n",
       "      <td>Female</td>\n",
       "      <td>Other</td>\n",
       "      <td>230</td>\n",
       "      <td>840</td>\n",
       "    </tr>\n",
       "  </tbody>\n",
       "</table>\n",
       "</div>"
      ],
      "text/plain": [
       "   row_id  user_id  category_id  video_id  age  gender            profession  \\\n",
       "0   89198     7986           12        42   14    Male               Student   \n",
       "1   89199    11278           34       115   14    Male               Student   \n",
       "2   89200    17245            8       110   44  Female  Working Professional   \n",
       "3   89201     9851           16       137   18    Male               Student   \n",
       "4   89202    16008           34        96   47  Female                 Other   \n",
       "\n",
       "   followers  views  \n",
       "0        180    138  \n",
       "1        230    840  \n",
       "2        280    628  \n",
       "3        270    462  \n",
       "4        230    840  "
      ]
     },
     "execution_count": 3,
     "metadata": {},
     "output_type": "execute_result"
    }
   ],
   "source": [
    "test.head(5)"
   ]
  },
  {
   "cell_type": "code",
   "execution_count": 4,
   "id": "61198da4",
   "metadata": {},
   "outputs": [
    {
     "data": {
      "text/plain": [
       "(89197, 10)"
      ]
     },
     "execution_count": 4,
     "metadata": {},
     "output_type": "execute_result"
    }
   ],
   "source": [
    "## checking the dimension of the train dataset...\n",
    "\n",
    "train.shape"
   ]
  },
  {
   "cell_type": "markdown",
   "id": "428ec226",
   "metadata": {},
   "source": [
    "So, we have 89197 rows and 10 columns present in dataset"
   ]
  },
  {
   "cell_type": "code",
   "execution_count": 5,
   "id": "38f699b6",
   "metadata": {},
   "outputs": [
    {
     "name": "stdout",
     "output_type": "stream",
     "text": [
      "<class 'pandas.core.frame.DataFrame'>\n",
      "RangeIndex: 89197 entries, 0 to 89196\n",
      "Data columns (total 10 columns):\n",
      " #   Column            Non-Null Count  Dtype  \n",
      "---  ------            --------------  -----  \n",
      " 0   row_id            89197 non-null  int64  \n",
      " 1   user_id           89197 non-null  int64  \n",
      " 2   category_id       89197 non-null  int64  \n",
      " 3   video_id          89197 non-null  int64  \n",
      " 4   age               89197 non-null  int64  \n",
      " 5   gender            89197 non-null  object \n",
      " 6   profession        89197 non-null  object \n",
      " 7   followers         89197 non-null  int64  \n",
      " 8   views             89197 non-null  int64  \n",
      " 9   engagement_score  89197 non-null  float64\n",
      "dtypes: float64(1), int64(7), object(2)\n",
      "memory usage: 6.8+ MB\n"
     ]
    }
   ],
   "source": [
    "## Here info function gives the number of entries and data types of the dataset\n",
    "\n",
    "train.info()"
   ]
  },
  {
   "cell_type": "code",
   "execution_count": 6,
   "id": "5e097029",
   "metadata": {},
   "outputs": [
    {
     "name": "stdout",
     "output_type": "stream",
     "text": [
      "<class 'pandas.core.frame.DataFrame'>\n",
      "RangeIndex: 11121 entries, 0 to 11120\n",
      "Data columns (total 9 columns):\n",
      " #   Column       Non-Null Count  Dtype \n",
      "---  ------       --------------  ----- \n",
      " 0   row_id       11121 non-null  int64 \n",
      " 1   user_id      11121 non-null  int64 \n",
      " 2   category_id  11121 non-null  int64 \n",
      " 3   video_id     11121 non-null  int64 \n",
      " 4   age          11121 non-null  int64 \n",
      " 5   gender       11121 non-null  object\n",
      " 6   profession   11121 non-null  object\n",
      " 7   followers    11121 non-null  int64 \n",
      " 8   views        11121 non-null  int64 \n",
      "dtypes: int64(7), object(2)\n",
      "memory usage: 782.1+ KB\n"
     ]
    }
   ],
   "source": [
    "test.info()"
   ]
  },
  {
   "cell_type": "markdown",
   "id": "1926cbdf",
   "metadata": {},
   "source": [
    "Here we can see that there are no missing values and null values.....\n",
    "\n",
    "datatypes are also correct with respect to that column"
   ]
  },
  {
   "cell_type": "code",
   "execution_count": 7,
   "id": "4b88af5f",
   "metadata": {},
   "outputs": [
    {
     "data": {
      "text/plain": [
       "array([[<AxesSubplot:title={'center':'row_id'}>,\n",
       "        <AxesSubplot:title={'center':'user_id'}>,\n",
       "        <AxesSubplot:title={'center':'category_id'}>],\n",
       "       [<AxesSubplot:title={'center':'video_id'}>,\n",
       "        <AxesSubplot:title={'center':'age'}>,\n",
       "        <AxesSubplot:title={'center':'followers'}>],\n",
       "       [<AxesSubplot:title={'center':'views'}>,\n",
       "        <AxesSubplot:title={'center':'engagement_score'}>,\n",
       "        <AxesSubplot:>]], dtype=object)"
      ]
     },
     "execution_count": 7,
     "metadata": {},
     "output_type": "execute_result"
    },
    {
     "data": {
      "image/png": "[encoded data removed]",
      "text/plain": [
       "<Figure size 720x720 with 9 Axes>"
      ]
     },
     "metadata": {
      "needs_background": "light"
     },
     "output_type": "display_data"
    }
   ],
   "source": [
    "## checking the distribution of the dataset of columns\n",
    "\n",
    "train.hist(figsize = (10,10))"
   ]
  },
  {
   "cell_type": "markdown",
   "id": "36627e9c",
   "metadata": {},
   "source": [
    "The distributions of the columns are not normal.\n",
    "\n",
    "It is important to narmalize our data to get the good accuracy"
   ]
  },
  {
   "cell_type": "code",
   "execution_count": 8,
   "id": "7bfa3113",
   "metadata": {},
   "outputs": [
    {
     "data": {
      "text/plain": [
       "row_id              0\n",
       "user_id             0\n",
       "category_id         0\n",
       "video_id            0\n",
       "age                 0\n",
       "gender              0\n",
       "profession          0\n",
       "followers           0\n",
       "views               0\n",
       "engagement_score    0\n",
       "dtype: int64"
      ]
     },
     "execution_count": 8,
     "metadata": {},
     "output_type": "execute_result"
    }
   ],
   "source": [
    "## checking for the null values by using the isnull() function.\n",
    "\n",
    "train.isnull().sum()"
   ]
  },
  {
   "cell_type": "code",
   "execution_count": 9,
   "id": "ba0599ad",
   "metadata": {},
   "outputs": [
    {
     "data": {
      "text/plain": [
       "row_id         0\n",
       "user_id        0\n",
       "category_id    0\n",
       "video_id       0\n",
       "age            0\n",
       "gender         0\n",
       "profession     0\n",
       "followers      0\n",
       "views          0\n",
       "dtype: int64"
      ]
     },
     "execution_count": 9,
     "metadata": {},
     "output_type": "execute_result"
    }
   ],
   "source": [
    "test.isnull().sum()"
   ]
  },
  {
   "cell_type": "markdown",
   "id": "3c799022",
   "metadata": {},
   "source": [
    "We can see that there are no missing values or null values in the dataset."
   ]
  },
  {
   "cell_type": "code",
   "execution_count": 10,
   "id": "35651390",
   "metadata": {},
   "outputs": [
    {
     "data": {
      "text/html": [
       "<div>\n",
       "<style scoped>\n",
       "    .dataframe tbody tr th:only-of-type {\n",
       "        vertical-align: middle;\n",
       "    }\n",
       "\n",
       "    .dataframe tbody tr th {\n",
       "        vertical-align: top;\n",
       "    }\n",
       "\n",
       "    .dataframe thead th {\n",
       "        text-align: right;\n",
       "    }\n",
       "</style>\n",
       "<table border=\"1\" class=\"dataframe\">\n",
       "  <thead>\n",
       "    <tr style=\"text-align: right;\">\n",
       "      <th></th>\n",
       "      <th>row_id</th>\n",
       "      <th>user_id</th>\n",
       "      <th>category_id</th>\n",
       "      <th>video_id</th>\n",
       "      <th>age</th>\n",
       "      <th>followers</th>\n",
       "      <th>views</th>\n",
       "      <th>engagement_score</th>\n",
       "    </tr>\n",
       "  </thead>\n",
       "  <tbody>\n",
       "    <tr>\n",
       "      <th>count</th>\n",
       "      <td>89197.000000</td>\n",
       "      <td>89197.000000</td>\n",
       "      <td>89197.000000</td>\n",
       "      <td>89197.000000</td>\n",
       "      <td>89197.000000</td>\n",
       "      <td>89197.000000</td>\n",
       "      <td>89197.000000</td>\n",
       "      <td>89197.000000</td>\n",
       "    </tr>\n",
       "    <tr>\n",
       "      <th>mean</th>\n",
       "      <td>44599.000000</td>\n",
       "      <td>13881.909806</td>\n",
       "      <td>18.323733</td>\n",
       "      <td>77.715383</td>\n",
       "      <td>24.848616</td>\n",
       "      <td>252.460172</td>\n",
       "      <td>502.980268</td>\n",
       "      <td>3.487797</td>\n",
       "    </tr>\n",
       "    <tr>\n",
       "      <th>std</th>\n",
       "      <td>25749.100318</td>\n",
       "      <td>8005.582771</td>\n",
       "      <td>11.675154</td>\n",
       "      <td>48.469656</td>\n",
       "      <td>8.955535</td>\n",
       "      <td>46.094468</td>\n",
       "      <td>268.569482</td>\n",
       "      <td>0.863498</td>\n",
       "    </tr>\n",
       "    <tr>\n",
       "      <th>min</th>\n",
       "      <td>1.000000</td>\n",
       "      <td>1.000000</td>\n",
       "      <td>1.000000</td>\n",
       "      <td>1.000000</td>\n",
       "      <td>10.000000</td>\n",
       "      <td>160.000000</td>\n",
       "      <td>30.000000</td>\n",
       "      <td>0.000000</td>\n",
       "    </tr>\n",
       "    <tr>\n",
       "      <th>25%</th>\n",
       "      <td>22300.000000</td>\n",
       "      <td>6945.000000</td>\n",
       "      <td>8.000000</td>\n",
       "      <td>34.000000</td>\n",
       "      <td>18.000000</td>\n",
       "      <td>230.000000</td>\n",
       "      <td>229.000000</td>\n",
       "      <td>2.900000</td>\n",
       "    </tr>\n",
       "    <tr>\n",
       "      <th>50%</th>\n",
       "      <td>44599.000000</td>\n",
       "      <td>13892.000000</td>\n",
       "      <td>16.000000</td>\n",
       "      <td>76.000000</td>\n",
       "      <td>23.000000</td>\n",
       "      <td>240.000000</td>\n",
       "      <td>467.000000</td>\n",
       "      <td>3.710000</td>\n",
       "    </tr>\n",
       "    <tr>\n",
       "      <th>75%</th>\n",
       "      <td>66898.000000</td>\n",
       "      <td>20819.000000</td>\n",
       "      <td>26.000000</td>\n",
       "      <td>120.000000</td>\n",
       "      <td>32.000000</td>\n",
       "      <td>280.000000</td>\n",
       "      <td>714.000000</td>\n",
       "      <td>4.150000</td>\n",
       "    </tr>\n",
       "    <tr>\n",
       "      <th>max</th>\n",
       "      <td>89197.000000</td>\n",
       "      <td>27734.000000</td>\n",
       "      <td>47.000000</td>\n",
       "      <td>175.000000</td>\n",
       "      <td>68.000000</td>\n",
       "      <td>360.000000</td>\n",
       "      <td>1000.000000</td>\n",
       "      <td>5.000000</td>\n",
       "    </tr>\n",
       "  </tbody>\n",
       "</table>\n",
       "</div>"
      ],
      "text/plain": [
       "             row_id       user_id   category_id      video_id           age  \\\n",
       "count  89197.000000  89197.000000  89197.000000  89197.000000  89197.000000   \n",
       "mean   44599.000000  13881.909806     18.323733     77.715383     24.848616   \n",
       "std    25749.100318   8005.582771     11.675154     48.469656      8.955535   \n",
       "min        1.000000      1.000000      1.000000      1.000000     10.000000   \n",
       "25%    22300.000000   6945.000000      8.000000     34.000000     18.000000   \n",
       "50%    44599.000000  13892.000000     16.000000     76.000000     23.000000   \n",
       "75%    66898.000000  20819.000000     26.000000    120.000000     32.000000   \n",
       "max    89197.000000  27734.000000     47.000000    175.000000     68.000000   \n",
       "\n",
       "          followers         views  engagement_score  \n",
       "count  89197.000000  89197.000000      89197.000000  \n",
       "mean     252.460172    502.980268          3.487797  \n",
       "std       46.094468    268.569482          0.863498  \n",
       "min      160.000000     30.000000          0.000000  \n",
       "25%      230.000000    229.000000          2.900000  \n",
       "50%      240.000000    467.000000          3.710000  \n",
       "75%      280.000000    714.000000          4.150000  \n",
       "max      360.000000   1000.000000          5.000000  "
      ]
     },
     "execution_count": 10,
     "metadata": {},
     "output_type": "execute_result"
    }
   ],
   "source": [
    "## Here describe function gives the basic description of the dataset like mean,min,max...\n",
    "train.describe()"
   ]
  },
  {
   "cell_type": "code",
   "execution_count": 11,
   "id": "a1b82a21",
   "metadata": {},
   "outputs": [
    {
     "data": {
      "image/png": "[encoded data removed]",
      "text/plain": [
       "<Figure size 1080x576 with 2 Axes>"
      ]
     },
     "metadata": {
      "needs_background": "light"
     },
     "output_type": "display_data"
    }
   ],
   "source": [
    "plt.figure(figsize = (15,8))\n",
    "\n",
    "corr = train.corr()\n",
    "sns.heatmap(corr, cmap = 'YlGnBu', annot = True)\n",
    "plt.show()"
   ]
  },
  {
   "cell_type": "markdown",
   "id": "abe219f6",
   "metadata": {},
   "source": [
    "The variables are all independent from each other"
   ]
  },
  {
   "cell_type": "markdown",
   "id": "2a7ee080",
   "metadata": {},
   "source": [
    "# Exploring the data"
   ]
  },
  {
   "cell_type": "code",
   "execution_count": 12,
   "id": "18b6d90e",
   "metadata": {},
   "outputs": [
    {
     "data": {
      "text/plain": [
       "<AxesSubplot:xlabel='gender', ylabel='count'>"
      ]
     },
     "execution_count": 12,
     "metadata": {},
     "output_type": "execute_result"
    },
    {
     "data": {
      "image/png": "[encoded data removed]",
      "text/plain": [
       "<Figure size 432x288 with 1 Axes>"
      ]
     },
     "metadata": {
      "needs_background": "light"
     },
     "output_type": "display_data"
    }
   ],
   "source": [
    "## checking the count of gender column\n",
    "\n",
    "sns.countplot(train['gender'],palette = 'magma')"
   ]
  },
  {
   "cell_type": "markdown",
   "id": "9b36e4fe",
   "metadata": {},
   "source": [
    "We can see that male count is more than the female"
   ]
  },
  {
   "cell_type": "code",
   "execution_count": 13,
   "id": "99214a93",
   "metadata": {},
   "outputs": [
    {
     "data": {
      "text/plain": [
       "<AxesSubplot:xlabel='profession', ylabel='count'>"
      ]
     },
     "execution_count": 13,
     "metadata": {},
     "output_type": "execute_result"
    },
    {
     "data": {
      "image/png": "[encoded data removed]",
      "text/plain": [
       "<Figure size 432x288 with 1 Axes>"
      ]
     },
     "metadata": {
      "needs_background": "light"
     },
     "output_type": "display_data"
    }
   ],
   "source": [
    "## checking the count of profession column by using the countplot\n",
    "\n",
    "sns.countplot(train['profession'],palette = 'mako')"
   ]
  },
  {
   "cell_type": "markdown",
   "id": "cf66c586",
   "metadata": {},
   "source": [
    "Here we can see that students have more count, that means students are more active in this.\n",
    "\n",
    "others are in the second plcae after students.\n",
    "\n",
    "working professional is in 3rd place."
   ]
  },
  {
   "cell_type": "code",
   "execution_count": 14,
   "id": "b3d022a1",
   "metadata": {},
   "outputs": [],
   "source": [
    "## Adding the new feature by using the age column\n",
    "## breaking the age group accroding to the age\n",
    "\n",
    "bins = [1,10,14,17,30,60,100]\n",
    "labels = ['kid','young child','teenager','young adult','adult','senior']\n",
    "\n",
    "train['age_group'] = train['age_group'] = pd.cut(train['age'],bins = bins,labels = labels)"
   ]
  },
  {
   "cell_type": "code",
   "execution_count": 15,
   "id": "1903c26d",
   "metadata": {},
   "outputs": [
    {
     "data": {
      "text/html": [
       "<div>\n",
       "<style scoped>\n",
       "    .dataframe tbody tr th:only-of-type {\n",
       "        vertical-align: middle;\n",
       "    }\n",
       "\n",
       "    .dataframe tbody tr th {\n",
       "        vertical-align: top;\n",
       "    }\n",
       "\n",
       "    .dataframe thead th {\n",
       "        text-align: right;\n",
       "    }\n",
       "</style>\n",
       "<table border=\"1\" class=\"dataframe\">\n",
       "  <thead>\n",
       "    <tr style=\"text-align: right;\">\n",
       "      <th></th>\n",
       "      <th>row_id</th>\n",
       "      <th>user_id</th>\n",
       "      <th>category_id</th>\n",
       "      <th>video_id</th>\n",
       "      <th>age</th>\n",
       "      <th>gender</th>\n",
       "      <th>profession</th>\n",
       "      <th>followers</th>\n",
       "      <th>views</th>\n",
       "      <th>engagement_score</th>\n",
       "      <th>age_group</th>\n",
       "    </tr>\n",
       "  </thead>\n",
       "  <tbody>\n",
       "    <tr>\n",
       "      <th>0</th>\n",
       "      <td>1</td>\n",
       "      <td>19990</td>\n",
       "      <td>37</td>\n",
       "      <td>128</td>\n",
       "      <td>24</td>\n",
       "      <td>Male</td>\n",
       "      <td>Student</td>\n",
       "      <td>180</td>\n",
       "      <td>1000</td>\n",
       "      <td>4.33</td>\n",
       "      <td>young adult</td>\n",
       "    </tr>\n",
       "    <tr>\n",
       "      <th>1</th>\n",
       "      <td>2</td>\n",
       "      <td>5304</td>\n",
       "      <td>32</td>\n",
       "      <td>132</td>\n",
       "      <td>14</td>\n",
       "      <td>Female</td>\n",
       "      <td>Student</td>\n",
       "      <td>330</td>\n",
       "      <td>714</td>\n",
       "      <td>1.79</td>\n",
       "      <td>young child</td>\n",
       "    </tr>\n",
       "    <tr>\n",
       "      <th>2</th>\n",
       "      <td>3</td>\n",
       "      <td>1840</td>\n",
       "      <td>12</td>\n",
       "      <td>24</td>\n",
       "      <td>19</td>\n",
       "      <td>Male</td>\n",
       "      <td>Student</td>\n",
       "      <td>180</td>\n",
       "      <td>138</td>\n",
       "      <td>4.35</td>\n",
       "      <td>young adult</td>\n",
       "    </tr>\n",
       "    <tr>\n",
       "      <th>3</th>\n",
       "      <td>4</td>\n",
       "      <td>12597</td>\n",
       "      <td>23</td>\n",
       "      <td>112</td>\n",
       "      <td>19</td>\n",
       "      <td>Male</td>\n",
       "      <td>Student</td>\n",
       "      <td>220</td>\n",
       "      <td>613</td>\n",
       "      <td>3.77</td>\n",
       "      <td>young adult</td>\n",
       "    </tr>\n",
       "    <tr>\n",
       "      <th>4</th>\n",
       "      <td>5</td>\n",
       "      <td>13626</td>\n",
       "      <td>23</td>\n",
       "      <td>112</td>\n",
       "      <td>27</td>\n",
       "      <td>Male</td>\n",
       "      <td>Working Professional</td>\n",
       "      <td>220</td>\n",
       "      <td>613</td>\n",
       "      <td>3.13</td>\n",
       "      <td>young adult</td>\n",
       "    </tr>\n",
       "  </tbody>\n",
       "</table>\n",
       "</div>"
      ],
      "text/plain": [
       "   row_id  user_id  category_id  video_id  age  gender            profession  \\\n",
       "0       1    19990           37       128   24    Male               Student   \n",
       "1       2     5304           32       132   14  Female               Student   \n",
       "2       3     1840           12        24   19    Male               Student   \n",
       "3       4    12597           23       112   19    Male               Student   \n",
       "4       5    13626           23       112   27    Male  Working Professional   \n",
       "\n",
       "   followers  views  engagement_score    age_group  \n",
       "0        180   1000              4.33  young adult  \n",
       "1        330    714              1.79  young child  \n",
       "2        180    138              4.35  young adult  \n",
       "3        220    613              3.77  young adult  \n",
       "4        220    613              3.13  young adult  "
      ]
     },
     "execution_count": 15,
     "metadata": {},
     "output_type": "execute_result"
    }
   ],
   "source": [
    "train.head()"
   ]
  },
  {
   "cell_type": "markdown",
   "id": "89aeab53",
   "metadata": {},
   "source": [
    "Here we can see that there's added a new column called age_group"
   ]
  },
  {
   "cell_type": "code",
   "execution_count": 16,
   "id": "bd227d0a",
   "metadata": {},
   "outputs": [
    {
     "data": {
      "text/plain": [
       "young adult    42322\n",
       "adult          25224\n",
       "teenager       12245\n",
       "young child     8621\n",
       "kid              752\n",
       "senior            33\n",
       "Name: age_group, dtype: int64"
      ]
     },
     "execution_count": 16,
     "metadata": {},
     "output_type": "execute_result"
    }
   ],
   "source": [
    "## counting the age_group column by using the value_counts function\n",
    "\n",
    "train['age_group'].value_counts()"
   ]
  },
  {
   "cell_type": "code",
   "execution_count": 17,
   "id": "1abd1e36",
   "metadata": {},
   "outputs": [
    {
     "data": {
      "text/plain": [
       "<AxesSubplot:xlabel='age_group', ylabel='count'>"
      ]
     },
     "execution_count": 17,
     "metadata": {},
     "output_type": "execute_result"
    },
    {
     "data": {
      "image/png": "[encoded data removed]",
      "text/plain": [
       "<Figure size 432x288 with 1 Axes>"
      ]
     },
     "metadata": {
      "needs_background": "light"
     },
     "output_type": "display_data"
    }
   ],
   "source": [
    "sns.countplot(train['age_group'],palette = 'twilight')"
   ]
  },
  {
   "cell_type": "markdown",
   "id": "3d42538d",
   "metadata": {},
   "source": [
    "Here we can see that there are more young adults are there that the age between 17 - 30.\n",
    "\n",
    "Adults are in the second place (age between 30 - 60)\n",
    "\n",
    "Teenagers are in the third place (age between 14 - 17)\n",
    "\n",
    "young child, kids and seniors are quite less than the others"
   ]
  },
  {
   "cell_type": "code",
   "execution_count": 18,
   "id": "52de8bc4",
   "metadata": {},
   "outputs": [
    {
     "data": {
      "text/plain": [
       "<AxesSubplot:xlabel='gender', ylabel='views'>"
      ]
     },
     "execution_count": 18,
     "metadata": {},
     "output_type": "execute_result"
    },
    {
     "data": {
      "image/png": "[encoded data removed]",
      "text/plain": [
       "<Figure size 432x288 with 1 Axes>"
      ]
     },
     "metadata": {
      "needs_background": "light"
     },
     "output_type": "display_data"
    }
   ],
   "source": [
    "## checking the views column and gender column by using the barplot\n",
    "\n",
    "sns.barplot(x = train['gender'],y = train['views'],palette = 'bright')"
   ]
  },
  {
   "cell_type": "markdown",
   "id": "cab75ac1",
   "metadata": {},
   "source": [
    "There is no much difference between male and female views...\n",
    "\n",
    "But female is quite high in views"
   ]
  },
  {
   "cell_type": "code",
   "execution_count": 19,
   "id": "8345fb04",
   "metadata": {},
   "outputs": [
    {
     "data": {
      "text/plain": [
       "<AxesSubplot:xlabel='profession', ylabel='views'>"
      ]
     },
     "execution_count": 19,
     "metadata": {},
     "output_type": "execute_result"
    },
    {
     "data": {
      "image/png": "[encoded data removed]",
      "text/plain": [
       "<Figure size 432x288 with 1 Axes>"
      ]
     },
     "metadata": {
      "needs_background": "light"
     },
     "output_type": "display_data"
    }
   ],
   "source": [
    "## checking the profession column with views column by using the bar plot\n",
    "\n",
    "sns.barplot(x = train['profession'],y = train['views'],palette = 'crest')"
   ]
  },
  {
   "cell_type": "markdown",
   "id": "52f9bcb5",
   "metadata": {},
   "source": [
    "Here almost students, working profession and others have the same views"
   ]
  },
  {
   "cell_type": "markdown",
   "id": "c89bce78",
   "metadata": {},
   "source": [
    "# Outlier Treatment"
   ]
  },
  {
   "cell_type": "code",
   "execution_count": 20,
   "id": "e3ba9ded",
   "metadata": {},
   "outputs": [
    {
     "data": {
      "text/html": [
       "<div>\n",
       "<style scoped>\n",
       "    .dataframe tbody tr th:only-of-type {\n",
       "        vertical-align: middle;\n",
       "    }\n",
       "\n",
       "    .dataframe tbody tr th {\n",
       "        vertical-align: top;\n",
       "    }\n",
       "\n",
       "    .dataframe thead th {\n",
       "        text-align: right;\n",
       "    }\n",
       "</style>\n",
       "<table border=\"1\" class=\"dataframe\">\n",
       "  <thead>\n",
       "    <tr style=\"text-align: right;\">\n",
       "      <th></th>\n",
       "      <th>Features</th>\n",
       "      <th>Percentage</th>\n",
       "    </tr>\n",
       "  </thead>\n",
       "  <tbody>\n",
       "    <tr>\n",
       "      <th>0</th>\n",
       "      <td>row_id</td>\n",
       "      <td>0.00</td>\n",
       "    </tr>\n",
       "    <tr>\n",
       "      <th>1</th>\n",
       "      <td>user_id</td>\n",
       "      <td>0.00</td>\n",
       "    </tr>\n",
       "    <tr>\n",
       "      <th>2</th>\n",
       "      <td>category_id</td>\n",
       "      <td>0.00</td>\n",
       "    </tr>\n",
       "    <tr>\n",
       "      <th>3</th>\n",
       "      <td>video_id</td>\n",
       "      <td>0.00</td>\n",
       "    </tr>\n",
       "    <tr>\n",
       "      <th>4</th>\n",
       "      <td>age</td>\n",
       "      <td>0.24</td>\n",
       "    </tr>\n",
       "    <tr>\n",
       "      <th>5</th>\n",
       "      <td>followers</td>\n",
       "      <td>2.03</td>\n",
       "    </tr>\n",
       "    <tr>\n",
       "      <th>6</th>\n",
       "      <td>views</td>\n",
       "      <td>0.00</td>\n",
       "    </tr>\n",
       "    <tr>\n",
       "      <th>7</th>\n",
       "      <td>engagement_score</td>\n",
       "      <td>0.92</td>\n",
       "    </tr>\n",
       "  </tbody>\n",
       "</table>\n",
       "</div>"
      ],
      "text/plain": [
       "           Features  Percentage\n",
       "0            row_id        0.00\n",
       "1           user_id        0.00\n",
       "2       category_id        0.00\n",
       "3          video_id        0.00\n",
       "4               age        0.24\n",
       "5         followers        2.03\n",
       "6             views        0.00\n",
       "7  engagement_score        0.92"
      ]
     },
     "execution_count": 20,
     "metadata": {},
     "output_type": "execute_result"
    }
   ],
   "source": [
    "## checking the outliers percentage of every column in the dataset\n",
    "\n",
    "\n",
    "numeric_cols = train.select_dtypes(['int64','float64']).columns\n",
    "## taking columns of datatype int and float in numeric_cols\n",
    "\n",
    "## Keeping the name as outliers_per_dict and using the fot loop in numeric_cols\n",
    "outliers_per_dict = {}\n",
    "for i in numeric_cols:\n",
    "  ##Using the IQR for outliers and giving the maximum range(.75) - minimum range(.25)\n",
    "\n",
    "    IQR = train[i].quantile(.75)-train[i].quantile(.25)\n",
    "    ## Taking the d[i] with qunatile range .75 + 1.5(factor) multiply by IQR and d[i] with quantile range .25 - 1.5 multiply by\n",
    "    ## IQR\n",
    "    outliers_count = train[(train[i]>(train[i].quantile(.75)+1.5*IQR)) | (train[i]<(train[i].quantile(.25)-1.5*IQR))].shape[0]\n",
    "    total = train.shape[0]\n",
    "    outliers_per = round(outliers_count/total*100,2)\n",
    "    outliers_per_dict[i] = outliers_per\n",
    "outlier_df = pd.DataFrame({'Features':list(outliers_per_dict.keys()),'Percentage':list(outliers_per_dict.values())})\n",
    "outlier_df"
   ]
  },
  {
   "cell_type": "markdown",
   "id": "699b0e1c",
   "metadata": {},
   "source": [
    "There are no much outliers in the dataset except the columns age, followers andf engagement_score"
   ]
  },
  {
   "cell_type": "code",
   "execution_count": 21,
   "id": "be281d4a",
   "metadata": {},
   "outputs": [
    {
     "data": {
      "text/plain": [
       "<AxesSubplot:xlabel='engagement_score'>"
      ]
     },
     "execution_count": 21,
     "metadata": {},
     "output_type": "execute_result"
    },
    {
     "data": {
      "image/png": "[encoded data removed]",
      "text/plain": [
       "<Figure size 432x288 with 1 Axes>"
      ]
     },
     "metadata": {
      "needs_background": "light"
     },
     "output_type": "display_data"
    }
   ],
   "source": [
    "## Using the boxplot to check the outliers\n",
    "\n",
    "sns.boxplot(train['engagement_score']) ## checking on engagement_score column"
   ]
  },
  {
   "cell_type": "code",
   "execution_count": 22,
   "id": "a5292352",
   "metadata": {},
   "outputs": [
    {
     "data": {
      "text/plain": [
       "<AxesSubplot:xlabel='followers'>"
      ]
     },
     "execution_count": 22,
     "metadata": {},
     "output_type": "execute_result"
    },
    {
     "data": {
      "image/png": "[encoded data removed]",
      "text/plain": [
       "<Figure size 432x288 with 1 Axes>"
      ]
     },
     "metadata": {
      "needs_background": "light"
     },
     "output_type": "display_data"
    }
   ],
   "source": [
    "sns.boxplot(train['followers']) ## checking the followers column"
   ]
  },
  {
   "cell_type": "code",
   "execution_count": 23,
   "id": "61337f2e",
   "metadata": {},
   "outputs": [
    {
     "data": {
      "text/plain": [
       "<AxesSubplot:xlabel='age'>"
      ]
     },
     "execution_count": 23,
     "metadata": {},
     "output_type": "execute_result"
    },
    {
     "data": {
      "image/png": "[encoded data removed]",
      "text/plain": [
       "<Figure size 432x288 with 1 Axes>"
      ]
     },
     "metadata": {
      "needs_background": "light"
     },
     "output_type": "display_data"
    }
   ],
   "source": [
    "sns.boxplot(train['age']) ## checking on age column"
   ]
  },
  {
   "cell_type": "markdown",
   "id": "0f2b32bf",
   "metadata": {},
   "source": [
    "We can see that age and engagement_score columns have outliers....\n",
    "\n",
    "followers columns doesn't contain much outliers comparing to age and engagement_score columns"
   ]
  },
  {
   "cell_type": "code",
   "execution_count": 24,
   "id": "968d0d0c",
   "metadata": {},
   "outputs": [],
   "source": [
    "\n",
    "## Removing the outliers by using the IQR for age and engagement_score columns\n",
    "\n",
    "Q1 = train['age'].quantile(0.25)\n",
    "Q3 = train['age'].quantile(0.75)\n",
    "IQR = Q3 - Q1\n",
    "\n",
    "train = train[~((train['age'] < (Q1 - 1.5 * IQR)) |(train['age'] > (Q3 + 1.5 * IQR)))]\n"
   ]
  },
  {
   "cell_type": "code",
   "execution_count": 25,
   "id": "1e5f0772",
   "metadata": {},
   "outputs": [],
   "source": [
    "Q1 = train['engagement_score'].quantile(0.25)\n",
    "Q3 = train['engagement_score'].quantile(0.75)\n",
    "IQR = Q3 - Q1\n",
    "\n",
    "train = train[~((train['engagement_score'] < (Q1 - 1.5 * IQR)) |(train['engagement_score'] > (Q3 + 1.5 * IQR)))]\n"
   ]
  },
  {
   "cell_type": "markdown",
   "id": "eabebf14",
   "metadata": {},
   "source": [
    "we are removing outliers of the age and engagement_score columns from the dataset, as we know outliers may effect the accuracy.\n",
    "\n",
    "followers column doesn't contain much outliers....there's is only one outlier so it may not effect the data."
   ]
  },
  {
   "cell_type": "markdown",
   "id": "0544af39",
   "metadata": {},
   "source": [
    "# converting variables of categorical to numerical"
   ]
  },
  {
   "cell_type": "code",
   "execution_count": 26,
   "id": "07749f1e",
   "metadata": {},
   "outputs": [],
   "source": [
    "cat_cols = ['gender','profession','age_group']\n",
    "## we have categorical columns in yes or no format, so we can use the labelEncoder for conversion.\n",
    "## importing the labelEncoder from sklearn\n",
    "\n",
    "from sklearn.preprocessing import LabelEncoder\n",
    "\n",
    "## Using the for loop in cat_cols and fitting the labelencoder to it.\n",
    "\n",
    "for each_col in cat_cols:\n",
    "    le = LabelEncoder()\n",
    "    train[each_col] = le.fit_transform(train[each_col])"
   ]
  },
  {
   "cell_type": "code",
   "execution_count": 27,
   "id": "a217dbf4",
   "metadata": {},
   "outputs": [
    {
     "data": {
      "text/html": [
       "<div>\n",
       "<style scoped>\n",
       "    .dataframe tbody tr th:only-of-type {\n",
       "        vertical-align: middle;\n",
       "    }\n",
       "\n",
       "    .dataframe tbody tr th {\n",
       "        vertical-align: top;\n",
       "    }\n",
       "\n",
       "    .dataframe thead th {\n",
       "        text-align: right;\n",
       "    }\n",
       "</style>\n",
       "<table border=\"1\" class=\"dataframe\">\n",
       "  <thead>\n",
       "    <tr style=\"text-align: right;\">\n",
       "      <th></th>\n",
       "      <th>row_id</th>\n",
       "      <th>user_id</th>\n",
       "      <th>category_id</th>\n",
       "      <th>video_id</th>\n",
       "      <th>age</th>\n",
       "      <th>gender</th>\n",
       "      <th>profession</th>\n",
       "      <th>followers</th>\n",
       "      <th>views</th>\n",
       "      <th>engagement_score</th>\n",
       "      <th>age_group</th>\n",
       "    </tr>\n",
       "  </thead>\n",
       "  <tbody>\n",
       "    <tr>\n",
       "      <th>0</th>\n",
       "      <td>1</td>\n",
       "      <td>19990</td>\n",
       "      <td>37</td>\n",
       "      <td>128</td>\n",
       "      <td>24</td>\n",
       "      <td>1</td>\n",
       "      <td>1</td>\n",
       "      <td>180</td>\n",
       "      <td>1000</td>\n",
       "      <td>4.33</td>\n",
       "      <td>3</td>\n",
       "    </tr>\n",
       "    <tr>\n",
       "      <th>1</th>\n",
       "      <td>2</td>\n",
       "      <td>5304</td>\n",
       "      <td>32</td>\n",
       "      <td>132</td>\n",
       "      <td>14</td>\n",
       "      <td>0</td>\n",
       "      <td>1</td>\n",
       "      <td>330</td>\n",
       "      <td>714</td>\n",
       "      <td>1.79</td>\n",
       "      <td>4</td>\n",
       "    </tr>\n",
       "    <tr>\n",
       "      <th>2</th>\n",
       "      <td>3</td>\n",
       "      <td>1840</td>\n",
       "      <td>12</td>\n",
       "      <td>24</td>\n",
       "      <td>19</td>\n",
       "      <td>1</td>\n",
       "      <td>1</td>\n",
       "      <td>180</td>\n",
       "      <td>138</td>\n",
       "      <td>4.35</td>\n",
       "      <td>3</td>\n",
       "    </tr>\n",
       "    <tr>\n",
       "      <th>3</th>\n",
       "      <td>4</td>\n",
       "      <td>12597</td>\n",
       "      <td>23</td>\n",
       "      <td>112</td>\n",
       "      <td>19</td>\n",
       "      <td>1</td>\n",
       "      <td>1</td>\n",
       "      <td>220</td>\n",
       "      <td>613</td>\n",
       "      <td>3.77</td>\n",
       "      <td>3</td>\n",
       "    </tr>\n",
       "    <tr>\n",
       "      <th>4</th>\n",
       "      <td>5</td>\n",
       "      <td>13626</td>\n",
       "      <td>23</td>\n",
       "      <td>112</td>\n",
       "      <td>27</td>\n",
       "      <td>1</td>\n",
       "      <td>2</td>\n",
       "      <td>220</td>\n",
       "      <td>613</td>\n",
       "      <td>3.13</td>\n",
       "      <td>3</td>\n",
       "    </tr>\n",
       "  </tbody>\n",
       "</table>\n",
       "</div>"
      ],
      "text/plain": [
       "   row_id  user_id  category_id  video_id  age  gender  profession  followers  \\\n",
       "0       1    19990           37       128   24       1           1        180   \n",
       "1       2     5304           32       132   14       0           1        330   \n",
       "2       3     1840           12        24   19       1           1        180   \n",
       "3       4    12597           23       112   19       1           1        220   \n",
       "4       5    13626           23       112   27       1           2        220   \n",
       "\n",
       "   views  engagement_score  age_group  \n",
       "0   1000              4.33          3  \n",
       "1    714              1.79          4  \n",
       "2    138              4.35          3  \n",
       "3    613              3.77          3  \n",
       "4    613              3.13          3  "
      ]
     },
     "execution_count": 27,
     "metadata": {},
     "output_type": "execute_result"
    }
   ],
   "source": [
    "train.head()"
   ]
  },
  {
   "cell_type": "code",
   "execution_count": 28,
   "id": "32e75957",
   "metadata": {},
   "outputs": [],
   "source": [
    "cat_cols = ['gender','profession']\n",
    "\n",
    "for each_col in cat_cols:\n",
    "    le = LabelEncoder()\n",
    "    test[each_col] = le.fit_transform(test[each_col])"
   ]
  },
  {
   "cell_type": "code",
   "execution_count": 29,
   "id": "d08d1b87",
   "metadata": {},
   "outputs": [
    {
     "name": "stdout",
     "output_type": "stream",
     "text": [
      "MinMaxScaler()\n"
     ]
    }
   ],
   "source": [
    "## scaling the dataset by using the minmaxscalar\n",
    "\n",
    "from sklearn.preprocessing import MinMaxScaler\n",
    "scaler = MinMaxScaler()\n",
    "print(scaler.fit(train))"
   ]
  },
  {
   "cell_type": "markdown",
   "id": "52a1daaa",
   "metadata": {},
   "source": [
    "# Applying the ML Model"
   ]
  },
  {
   "cell_type": "markdown",
   "id": "c2fc7d01",
   "metadata": {},
   "source": [
    "This is supervised model since it has target feature\n",
    "\n",
    "As we have seen that our target feature is continous variable so that means it belongs to regression problem.\n",
    "\n",
    "We need to fit the Linear Regression algorithm to this problem."
   ]
  },
  {
   "cell_type": "code",
   "execution_count": 30,
   "id": "ff4668a5",
   "metadata": {},
   "outputs": [
    {
     "data": {
      "text/plain": [
       "Index(['row_id', 'user_id', 'category_id', 'video_id', 'age', 'gender',\n",
       "       'profession', 'followers', 'views', 'engagement_score', 'age_group'],\n",
       "      dtype='object')"
      ]
     },
     "execution_count": 30,
     "metadata": {},
     "output_type": "execute_result"
    }
   ],
   "source": [
    "train.columns"
   ]
  },
  {
   "cell_type": "code",
   "execution_count": 31,
   "id": "0842c102",
   "metadata": {},
   "outputs": [],
   "source": [
    "## Giving x and y variables\n",
    "\n",
    "x = train[['user_id', 'category_id', 'video_id', 'age', 'gender',\n",
    "       'profession', 'followers', 'views','age_group']]\n",
    "y = train[['engagement_score']]"
   ]
  },
  {
   "cell_type": "code",
   "execution_count": 32,
   "id": "581936ed",
   "metadata": {},
   "outputs": [],
   "source": [
    "## importing the train_test_split from the sklearn\n",
    "\n",
    "from sklearn.model_selection import train_test_split"
   ]
  },
  {
   "cell_type": "code",
   "execution_count": 33,
   "id": "ea745572",
   "metadata": {},
   "outputs": [],
   "source": [
    "## Giving the x_train,y_train,x_test,y_test to split the dataset \n",
    "\n",
    "x_train, x_test, y_train, y_test = train_test_split(x,y,train_size = 0.8,random_state = 50)"
   ]
  },
  {
   "cell_type": "code",
   "execution_count": 34,
   "id": "b33e098a",
   "metadata": {},
   "outputs": [],
   "source": [
    "## importing the LinearRegression lgorithm from sklearn\n",
    "\n",
    "from sklearn.linear_model import LinearRegression"
   ]
  },
  {
   "cell_type": "code",
   "execution_count": 35,
   "id": "95bb5c21",
   "metadata": {},
   "outputs": [],
   "source": [
    "lr = LinearRegression()"
   ]
  },
  {
   "cell_type": "code",
   "execution_count": 36,
   "id": "86ccb2ab",
   "metadata": {},
   "outputs": [
    {
     "data": {
      "text/plain": [
       "LinearRegression()"
      ]
     },
     "execution_count": 36,
     "metadata": {},
     "output_type": "execute_result"
    }
   ],
   "source": [
    "## fitting my x_train and y_train\n",
    "\n",
    "lr.fit(x_train,y_train)"
   ]
  },
  {
   "cell_type": "code",
   "execution_count": 37,
   "id": "406f37b1",
   "metadata": {},
   "outputs": [],
   "source": [
    "y_pred = lr.predict(x_train)"
   ]
  },
  {
   "cell_type": "code",
   "execution_count": 38,
   "id": "05c8b6c3",
   "metadata": {},
   "outputs": [],
   "source": [
    "## importing the r2_score from sklearn matrics\n",
    "\n",
    "from sklearn.metrics import r2_score"
   ]
  },
  {
   "cell_type": "code",
   "execution_count": 39,
   "id": "63e179b4",
   "metadata": {},
   "outputs": [],
   "source": [
    "error_score = r2_score(y_train,y_pred)"
   ]
  },
  {
   "cell_type": "code",
   "execution_count": 40,
   "id": "2708fefd",
   "metadata": {},
   "outputs": [
    {
     "name": "stdout",
     "output_type": "stream",
     "text": [
      "R Squared Error : 0.23784841147858282\n"
     ]
    }
   ],
   "source": [
    "print('R Squared Error :', error_score)"
   ]
  },
  {
   "cell_type": "code",
   "execution_count": 41,
   "id": "29b4c84d",
   "metadata": {},
   "outputs": [
    {
     "data": {
      "image/png": "[encoded data removed]",
      "text/plain": [
       "<Figure size 432x288 with 1 Axes>"
      ]
     },
     "metadata": {
      "needs_background": "light"
     },
     "output_type": "display_data"
    }
   ],
   "source": [
    "plt.scatter(y_train, y_pred, marker = '*')\n",
    "plt.xlabel('Actual')\n",
    "plt.ylabel('Predicted')\n",
    "plt.title('Actual  vs Predicted Price')\n",
    "plt.show()"
   ]
  },
  {
   "cell_type": "markdown",
   "id": "6b1f8ed9",
   "metadata": {},
   "source": [
    "After Removing the outliers and doing scaling, Linear Regression didn't give good accuracy.\n",
    "\n",
    "It didn't fit a best line for the Model.\n",
    "\n",
    "This might be going underfit for Linear Regression"
   ]
  },
  {
   "cell_type": "markdown",
   "id": "5d72cc51",
   "metadata": {},
   "source": [
    "# Fitting random forest regression"
   ]
  },
  {
   "cell_type": "markdown",
   "id": "72010a00",
   "metadata": {},
   "source": [
    "Since random forest have ability to deal with underfit and overfit, This algorithm might give us the good accuracy"
   ]
  },
  {
   "cell_type": "code",
   "execution_count": 42,
   "id": "10301229",
   "metadata": {},
   "outputs": [],
   "source": [
    "## importing the RandomForestRegressor from sklearn\n",
    "\n",
    "from sklearn.ensemble import RandomForestRegressor"
   ]
  },
  {
   "cell_type": "code",
   "execution_count": 43,
   "id": "7fec3cf3",
   "metadata": {},
   "outputs": [],
   "source": [
    "regressor = RandomForestRegressor()\n",
    "## fitting the x and y train in regressor\n",
    "\n",
    "regressor.fit(x_train, y_train)\n",
    "RandomForestRegressor()\n",
    "## giving the y_pred for x_train\n",
    "\n",
    "y_pred = regressor.predict(x_train)\n",
    "## importing the r2_score from sklearn\n",
    "\n",
    "from sklearn.metrics import r2_score\n",
    "## giving the Y_predict for x_test"
   ]
  },
  {
   "cell_type": "code",
   "execution_count": 44,
   "id": "42e498d7",
   "metadata": {},
   "outputs": [
    {
     "name": "stdout",
     "output_type": "stream",
     "text": [
      "R Squared Error : 0.9122388984882696\n"
     ]
    }
   ],
   "source": [
    "## prdicting the r2 value....\n",
    "\n",
    "error_score = r2_score(y_train,y_pred)\n",
    "print('R Squared Error :', error_score)\n"
   ]
  },
  {
   "cell_type": "markdown",
   "id": "2848aacd",
   "metadata": {},
   "source": [
    "As we know r2 value lies between 0 - 1\n",
    "\n",
    "our model is giving the r2 value 0.9122....\n"
   ]
  },
  {
   "cell_type": "code",
   "execution_count": 45,
   "id": "b63d69ea",
   "metadata": {},
   "outputs": [
    {
     "data": {
      "image/png": "[encoded data removed]",
      "text/plain": [
       "<Figure size 432x288 with 1 Axes>"
      ]
     },
     "metadata": {
      "needs_background": "light"
     },
     "output_type": "display_data"
    }
   ],
   "source": [
    "plt.scatter(y_train, y_pred, marker = '*')\n",
    "plt.xlabel('Actual')\n",
    "plt.ylabel('Predicted')\n",
    "plt.title('Actual vs Predicted')\n",
    "plt.show()"
   ]
  },
  {
   "cell_type": "markdown",
   "id": "9af7428b",
   "metadata": {},
   "source": [
    "Random forest algorithm giving us the good accuracy for this dataset.\n",
    "\n",
    "As we have seen that using Linear Regression, model is going underfitting.\n",
    "\n",
    "Random Forest gave best fit line for the dataset"
   ]
  },
  {
   "cell_type": "code",
   "execution_count": 46,
   "id": "aa7a0208",
   "metadata": {},
   "outputs": [],
   "source": [
    "submission = test[['row_id']]"
   ]
  },
  {
   "cell_type": "code",
   "execution_count": 47,
   "id": "0b015841",
   "metadata": {},
   "outputs": [],
   "source": [
    "final_predictions = regressor.predict(test)\n",
    "submission['engagement_score'] = final_predictions\n",
    "#only positive predictions for the target variable\n",
    "submission.to_csv('sample_submission_JPlpRcN.csv', index=False)"
   ]
  },
  {
   "cell_type": "code",
   "execution_count": null,
   "id": "07b271a6",
   "metadata": {},
   "outputs": [],
   "source": []
  },
  {
   "cell_type": "code",
   "execution_count": null,
   "id": "b69f2fd7",
   "metadata": {},
   "outputs": [],
   "source": []
  },
  {
   "cell_type": "raw",
   "id": "8ea99d7a",
   "metadata": {},
   "source": []
  }
 ],
 "metadata": {
  "kernelspec": {
   "display_name": "Python 3",
   "language": "python",
   "name": "python3"
  },
  "language_info": {
   "codemirror_mode": {
    "name": "ipython",
    "version": 3
   },
   "file_extension": ".py",
   "mimetype": "text/x-python",
   "name": "python",
   "nbconvert_exporter": "python",
   "pygments_lexer": "ipython3",
   "version": "3.8.8"
  }
 },
 "nbformat": 4,
 "nbformat_minor": 5
}
